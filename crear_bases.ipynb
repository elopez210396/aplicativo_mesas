{
 "cells": [
  {
   "cell_type": "markdown",
   "metadata": {},
   "source": [
    "### creacion QRs"
   ]
  },
  {
   "cell_type": "code",
   "execution_count": 2,
   "metadata": {},
   "outputs": [
    {
     "name": "stdout",
     "output_type": "stream",
     "text": [
      "Códigos QR generados con éxito.\n"
     ]
    }
   ],
   "source": [
    "import qrcode\n",
    "\n",
    "# Base URL de la página\n",
    "base_url = \"https://appmesas.streamlit.app/\"\n",
    "\n",
    "# Parámetros únicos para cada QR\n",
    "parametros = [\"1\", \"2\", \"3\", \"4\", \"5\", \"6\"]\n",
    "\n",
    "# Generar y guardar los QR\n",
    "for parametro in parametros:\n",
    "    # Crear URL completa con el parámetro\n",
    "    url_completa = f\"{base_url}?mesa={parametro}\"\n",
    "    \n",
    "    # Crear código QR\n",
    "    qr = qrcode.QRCode(\n",
    "        version=1,\n",
    "        error_correction=qrcode.constants.ERROR_CORRECT_L,\n",
    "        box_size=10,\n",
    "        border=4,\n",
    "    )\n",
    "    qr.add_data(url_completa)\n",
    "    qr.make(fit=True)\n",
    "    \n",
    "    # Generar la imagen del QR\n",
    "    img = qr.make_image(fill_color=\"black\", back_color=\"white\")\n",
    "    \n",
    "    # Guardar la imagen con un nombre único\n",
    "    img.save(f\"qr_{parametro}.png\")\n",
    "\n",
    "print(\"Códigos QR generados con éxito.\")\n"
   ]
  },
  {
   "cell_type": "markdown",
   "metadata": {},
   "source": [
    "### Creación productos"
   ]
  },
  {
   "cell_type": "code",
   "execution_count": 4,
   "metadata": {},
   "outputs": [
    {
     "name": "stdout",
     "output_type": "stream",
     "text": [
      "Datos insertados correctamente.\n"
     ]
    }
   ],
   "source": [
    "import mysql.connector\n",
    "\n",
    "def read_image(file_path):\n",
    "    try:\n",
    "        with open(file_path, 'rb') as file:\n",
    "            return file.read()\n",
    "    except FileNotFoundError:\n",
    "        print(f\"Error: No se encontró la imagen en la ruta {file_path}\")\n",
    "        return None\n",
    "\n",
    "data_to_insert = [\n",
    "    {\n",
    "        \"nombre\": \"Ensalada\",\n",
    "        \"precio\": 25000,\n",
    "        \"categoria\": \"comida\",\n",
    "        \"imagen_path\": \"imagenes/ensalada.png\"\n",
    "    },\n",
    "    {\n",
    "        \"nombre\": \"Hamburguesa\",\n",
    "        \"precio\": 30000,\n",
    "        \"categoria\": \"comida\",\n",
    "        \"imagen_path\": \"imagenes/hamburguesa.png\"\n",
    "    },\n",
    "    {\n",
    "        \"nombre\": \"Tacos\",\n",
    "        \"precio\": 18000,\n",
    "        \"categoria\": \"comida\",\n",
    "        \"imagen_path\": \"imagenes/tacos.png\"\n",
    "    }\n",
    "]\n",
    "\n",
    "try:\n",
    "    # Conectar a la base de datos\n",
    "    cnx = mysql.connector.connect(\n",
    "        user='root',\n",
    "        password='',\n",
    "        host='127.0.0.1',\n",
    "        database='aplicativo_mesas',\n",
    "        port=3306\n",
    "    )\n",
    "\n",
    "    cursor = cnx.cursor()\n",
    "\n",
    "    # Consulta para insertar un nuevo registro\n",
    "    query = \"\"\"\n",
    "    INSERT INTO productos (nombre, precio, imagen, categoria)\n",
    "    VALUES (%s, %s, %s, %s);\n",
    "    \"\"\"\n",
    "\n",
    "    values_to_insert = []\n",
    "    for item in data_to_insert:\n",
    "        imagen_binaria = read_image(item['imagen_path'])\n",
    "        if imagen_binaria:  # Solo agregar si la imagen se leyó correctamente\n",
    "            values_to_insert.append(\n",
    "                (item['nombre'], item['precio'], imagen_binaria, item['categoria'])\n",
    "            )\n",
    "\n",
    "    if values_to_insert:\n",
    "        cursor.executemany(query, values_to_insert)\n",
    "        cnx.commit()\n",
    "        print(\"Datos insertados correctamente.\")\n",
    "    else:\n",
    "        print(\"No se insertaron datos debido a errores en las imágenes.\")\n",
    "\n",
    "except mysql.connector.Error as err:\n",
    "    print(f\"Error al interactuar con la base de datos: {err}\")\n",
    "\n",
    "finally:\n",
    "    if 'cursor' in locals() and cursor:\n",
    "        cursor.close()\n",
    "    if 'cnx' in locals() and cnx:\n",
    "        cnx.close()\n"
   ]
  },
  {
   "cell_type": "code",
   "execution_count": null,
   "metadata": {},
   "outputs": [],
   "source": []
  }
 ],
 "metadata": {
  "kernelspec": {
   "display_name": "myenv",
   "language": "python",
   "name": "python3"
  },
  "language_info": {
   "codemirror_mode": {
    "name": "ipython",
    "version": 3
   },
   "file_extension": ".py",
   "mimetype": "text/x-python",
   "name": "python",
   "nbconvert_exporter": "python",
   "pygments_lexer": "ipython3",
   "version": "3.9.16"
  }
 },
 "nbformat": 4,
 "nbformat_minor": 2
}
